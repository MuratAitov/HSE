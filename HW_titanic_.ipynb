{
  "cells": [
    {
      "cell_type": "markdown",
      "metadata": {
        "id": "view-in-github",
        "colab_type": "text"
      },
      "source": [
        "<a href=\"https://colab.research.google.com/github/MuratAitov/HSE/blob/main/HW_titanic_.ipynb\" target=\"_parent\"><img src=\"https://colab.research.google.com/assets/colab-badge.svg\" alt=\"Open In Colab\"/></a>"
      ]
    },
    {
      "cell_type": "markdown",
      "metadata": {
        "id": "JV_DFHwgFLxt"
      },
      "source": [
        "### Analysis and Forecasting of Heterogeneous Time Series, National Research University Higher School of Economics (HSE), Academic Year 2022-23\n",
        "## Homework Assignment #3. Pandas and Matplotlib Libraries"
      ]
    },
    {
      "cell_type": "markdown",
      "metadata": {
        "id": "Sk5URBvkFLxx"
      },
      "source": [
        "# Murat Aitov"
      ]
    },
    {
      "cell_type": "markdown",
      "metadata": {
        "id": "kqVyveO4FLxx"
      },
      "source": [
        "### Общая информация"
      ]
    },
    {
      "cell_type": "markdown",
      "metadata": {
        "id": "qK8Ari9eFLxz"
      },
      "source": [
        "Each task is worth 3 points.\n",
        "\n",
        "The homework grade is calculated using the following formula:\n",
        "\n",
        "s\n",
        "pandas\n",
        "×\n",
        "10\n",
        "/\n",
        "48\n",
        ",\n",
        "s\n",
        "pandas\n",
        "​\n",
        " ×10/48,\n",
        "where $s_{\\text{pandas}}$ is the total number of points you earned for the tasks.\n",
        "\n",
        "For submitting the assignment later than the deadline, a penalty of 1 secondary point per day is applied to the final grade for the assignment, but the delay cannot exceed one week.\n",
        "\n",
        "Important: This homework assignment includes several tasks for which you can earn bonus points. Bonus points are added to the regular points, and it is possible that your final grade will exceed 10. In this case, that will be your grade. In other words, for this assignment, it is possible to receive more than 10 points."
      ]
    },
    {
      "cell_type": "markdown",
      "metadata": {
        "id": "TEVawss2FLxy"
      },
      "source": [
        "### About\n"
      ]
    },
    {
      "cell_type": "code",
      "execution_count": null,
      "metadata": {
        "id": "4gsWSgTIFLx1"
      },
      "outputs": [],
      "source": [
        "import matplotlib.pyplot as plt\n",
        "import pandas as pd\n",
        "import copy\n",
        "%matplotlib inline"
      ]
    },
    {
      "cell_type": "markdown",
      "metadata": {
        "id": "dGrzCZkIZKge"
      },
      "source": [
        "### 1"
      ]
    },
    {
      "cell_type": "markdown",
      "metadata": {
        "id": "zGH53krziiVU"
      },
      "source": [
        "In this homework assignment, you will work with data about passengers from the sunken \"Titanic,\" which we briefly discussed in the lecture earlier. The data description, as well as the data itself (from where they should be downloaded), can be found at the following link: https://www.kaggle.com/c/titanic/data"
      ]
    },
    {
      "cell_type": "markdown",
      "metadata": {
        "id": "rQyUvNgkZKge"
      },
      "source": [
        "Откройте в ноутбуке файл с данными (\"train.csv\"). Какой размер имеет таблица? Выведите первые 5 и последние 5 строк."
      ]
    },
    {
      "cell_type": "code",
      "execution_count": null,
      "metadata": {
        "id": "MezJYHsWLYit"
      },
      "outputs": [],
      "source": []
    },
    {
      "cell_type": "code",
      "execution_count": null,
      "metadata": {
        "id": "nUpM5eHoZKgf",
        "outputId": "79656d7f-848e-4cf0-aede-545e255e76b6"
      },
      "outputs": [
        {
          "name": "stdout",
          "output_type": "stream",
          "text": [
            "(891, 11)\n"
          ]
        },
        {
          "data": {
            "text/html": [
              "<div>\n",
              "<style scoped>\n",
              "    .dataframe tbody tr th:only-of-type {\n",
              "        vertical-align: middle;\n",
              "    }\n",
              "\n",
              "    .dataframe tbody tr th {\n",
              "        vertical-align: top;\n",
              "    }\n",
              "\n",
              "    .dataframe thead th {\n",
              "        text-align: right;\n",
              "    }\n",
              "</style>\n",
              "<table border=\"1\" class=\"dataframe\">\n",
              "  <thead>\n",
              "    <tr style=\"text-align: right;\">\n",
              "      <th></th>\n",
              "      <th>survived</th>\n",
              "      <th>pclass</th>\n",
              "      <th>name</th>\n",
              "      <th>sex</th>\n",
              "      <th>age</th>\n",
              "      <th>sibsp</th>\n",
              "      <th>parch</th>\n",
              "      <th>ticket</th>\n",
              "      <th>fare</th>\n",
              "      <th>cabin</th>\n",
              "      <th>embarked</th>\n",
              "    </tr>\n",
              "  </thead>\n",
              "  <tbody>\n",
              "    <tr>\n",
              "      <th>0</th>\n",
              "      <td>0</td>\n",
              "      <td>3</td>\n",
              "      <td>Braund, Mr. Owen Harris</td>\n",
              "      <td>male</td>\n",
              "      <td>22.0</td>\n",
              "      <td>1</td>\n",
              "      <td>0</td>\n",
              "      <td>A/5 21171</td>\n",
              "      <td>7.2500</td>\n",
              "      <td>NaN</td>\n",
              "      <td>S</td>\n",
              "    </tr>\n",
              "    <tr>\n",
              "      <th>1</th>\n",
              "      <td>1</td>\n",
              "      <td>1</td>\n",
              "      <td>Cumings, Mrs. John Bradley (Florence Briggs Th...</td>\n",
              "      <td>female</td>\n",
              "      <td>38.0</td>\n",
              "      <td>1</td>\n",
              "      <td>0</td>\n",
              "      <td>PC 17599</td>\n",
              "      <td>71.2833</td>\n",
              "      <td>C85</td>\n",
              "      <td>C</td>\n",
              "    </tr>\n",
              "    <tr>\n",
              "      <th>2</th>\n",
              "      <td>1</td>\n",
              "      <td>3</td>\n",
              "      <td>Heikkinen, Miss. Laina</td>\n",
              "      <td>female</td>\n",
              "      <td>26.0</td>\n",
              "      <td>0</td>\n",
              "      <td>0</td>\n",
              "      <td>STON/O2. 3101282</td>\n",
              "      <td>7.9250</td>\n",
              "      <td>NaN</td>\n",
              "      <td>S</td>\n",
              "    </tr>\n",
              "    <tr>\n",
              "      <th>3</th>\n",
              "      <td>1</td>\n",
              "      <td>1</td>\n",
              "      <td>Futrelle, Mrs. Jacques Heath (Lily May Peel)</td>\n",
              "      <td>female</td>\n",
              "      <td>35.0</td>\n",
              "      <td>1</td>\n",
              "      <td>0</td>\n",
              "      <td>113803</td>\n",
              "      <td>53.1000</td>\n",
              "      <td>C123</td>\n",
              "      <td>S</td>\n",
              "    </tr>\n",
              "    <tr>\n",
              "      <th>4</th>\n",
              "      <td>0</td>\n",
              "      <td>3</td>\n",
              "      <td>Allen, Mr. William Henry</td>\n",
              "      <td>male</td>\n",
              "      <td>35.0</td>\n",
              "      <td>0</td>\n",
              "      <td>0</td>\n",
              "      <td>373450</td>\n",
              "      <td>8.0500</td>\n",
              "      <td>NaN</td>\n",
              "      <td>S</td>\n",
              "    </tr>\n",
              "    <tr>\n",
              "      <th>886</th>\n",
              "      <td>0</td>\n",
              "      <td>2</td>\n",
              "      <td>Montvila, Rev. Juozas</td>\n",
              "      <td>male</td>\n",
              "      <td>27.0</td>\n",
              "      <td>0</td>\n",
              "      <td>0</td>\n",
              "      <td>211536</td>\n",
              "      <td>13.0000</td>\n",
              "      <td>NaN</td>\n",
              "      <td>S</td>\n",
              "    </tr>\n",
              "    <tr>\n",
              "      <th>887</th>\n",
              "      <td>1</td>\n",
              "      <td>1</td>\n",
              "      <td>Graham, Miss. Margaret Edith</td>\n",
              "      <td>female</td>\n",
              "      <td>19.0</td>\n",
              "      <td>0</td>\n",
              "      <td>0</td>\n",
              "      <td>112053</td>\n",
              "      <td>30.0000</td>\n",
              "      <td>B42</td>\n",
              "      <td>S</td>\n",
              "    </tr>\n",
              "    <tr>\n",
              "      <th>888</th>\n",
              "      <td>0</td>\n",
              "      <td>3</td>\n",
              "      <td>Johnston, Miss. Catherine Helen \"Carrie\"</td>\n",
              "      <td>female</td>\n",
              "      <td>NaN</td>\n",
              "      <td>1</td>\n",
              "      <td>2</td>\n",
              "      <td>W./C. 6607</td>\n",
              "      <td>23.4500</td>\n",
              "      <td>NaN</td>\n",
              "      <td>S</td>\n",
              "    </tr>\n",
              "    <tr>\n",
              "      <th>889</th>\n",
              "      <td>1</td>\n",
              "      <td>1</td>\n",
              "      <td>Behr, Mr. Karl Howell</td>\n",
              "      <td>male</td>\n",
              "      <td>26.0</td>\n",
              "      <td>0</td>\n",
              "      <td>0</td>\n",
              "      <td>111369</td>\n",
              "      <td>30.0000</td>\n",
              "      <td>C148</td>\n",
              "      <td>C</td>\n",
              "    </tr>\n",
              "    <tr>\n",
              "      <th>890</th>\n",
              "      <td>0</td>\n",
              "      <td>3</td>\n",
              "      <td>Dooley, Mr. Patrick</td>\n",
              "      <td>male</td>\n",
              "      <td>32.0</td>\n",
              "      <td>0</td>\n",
              "      <td>0</td>\n",
              "      <td>370376</td>\n",
              "      <td>7.7500</td>\n",
              "      <td>NaN</td>\n",
              "      <td>Q</td>\n",
              "    </tr>\n",
              "  </tbody>\n",
              "</table>\n",
              "</div>"
            ],
            "text/plain": [
              "     survived  pclass                                               name  \\\n",
              "0           0       3                            Braund, Mr. Owen Harris   \n",
              "1           1       1  Cumings, Mrs. John Bradley (Florence Briggs Th...   \n",
              "2           1       3                             Heikkinen, Miss. Laina   \n",
              "3           1       1       Futrelle, Mrs. Jacques Heath (Lily May Peel)   \n",
              "4           0       3                           Allen, Mr. William Henry   \n",
              "886         0       2                              Montvila, Rev. Juozas   \n",
              "887         1       1                       Graham, Miss. Margaret Edith   \n",
              "888         0       3           Johnston, Miss. Catherine Helen \"Carrie\"   \n",
              "889         1       1                              Behr, Mr. Karl Howell   \n",
              "890         0       3                                Dooley, Mr. Patrick   \n",
              "\n",
              "        sex   age  sibsp  parch            ticket     fare cabin embarked  \n",
              "0      male  22.0      1      0         A/5 21171   7.2500   NaN        S  \n",
              "1    female  38.0      1      0          PC 17599  71.2833   C85        C  \n",
              "2    female  26.0      0      0  STON/O2. 3101282   7.9250   NaN        S  \n",
              "3    female  35.0      1      0            113803  53.1000  C123        S  \n",
              "4      male  35.0      0      0            373450   8.0500   NaN        S  \n",
              "886    male  27.0      0      0            211536  13.0000   NaN        S  \n",
              "887  female  19.0      0      0            112053  30.0000   B42        S  \n",
              "888  female   NaN      1      2        W./C. 6607  23.4500   NaN        S  \n",
              "889    male  26.0      0      0            111369  30.0000  C148        C  \n",
              "890    male  32.0      0      0            370376   7.7500   NaN        Q  "
            ]
          },
          "execution_count": 47,
          "metadata": {},
          "output_type": "execute_result"
        }
      ],
      "source": [
        "titanic= pd.read_csv('train.csv', delimiter=',')\n",
        "print(titanic.shape)\n",
        "pd.concat([titanic.head(), titanic.tail()])"
      ]
    },
    {
      "cell_type": "code",
      "execution_count": null,
      "metadata": {
        "id": "9unKZbUfLYiu"
      },
      "outputs": [],
      "source": [
        "def capitalize_column_name(column_name):\n",
        "    words = column_name.split('_')\n",
        "    capitalized_words = [word.capitalize() for word in words]\n",
        "    return ' '.join(capitalized_words)\n",
        "titanic.columns = [capitalize_column_name(col) for col in titanic.columns]"
      ]
    },
    {
      "cell_type": "code",
      "execution_count": null,
      "metadata": {
        "id": "jwidqYILLYiu",
        "outputId": "5ac28961-671f-4ec3-e0e7-8a875d635f4f"
      },
      "outputs": [
        {
          "data": {
            "text/html": [
              "<div>\n",
              "<style scoped>\n",
              "    .dataframe tbody tr th:only-of-type {\n",
              "        vertical-align: middle;\n",
              "    }\n",
              "\n",
              "    .dataframe tbody tr th {\n",
              "        vertical-align: top;\n",
              "    }\n",
              "\n",
              "    .dataframe thead th {\n",
              "        text-align: right;\n",
              "    }\n",
              "</style>\n",
              "<table border=\"1\" class=\"dataframe\">\n",
              "  <thead>\n",
              "    <tr style=\"text-align: right;\">\n",
              "      <th></th>\n",
              "      <th>PassengerId</th>\n",
              "      <th>Survived</th>\n",
              "      <th>Pclass</th>\n",
              "      <th>Name</th>\n",
              "      <th>Sex</th>\n",
              "      <th>Age</th>\n",
              "      <th>Sibsp</th>\n",
              "      <th>Parch</th>\n",
              "      <th>Ticket</th>\n",
              "      <th>Fare</th>\n",
              "      <th>Cabin</th>\n",
              "      <th>Embarked</th>\n",
              "    </tr>\n",
              "  </thead>\n",
              "  <tbody>\n",
              "    <tr>\n",
              "      <th>0</th>\n",
              "      <td>1</td>\n",
              "      <td>0</td>\n",
              "      <td>3</td>\n",
              "      <td>Braund, Mr. Owen Harris</td>\n",
              "      <td>male</td>\n",
              "      <td>22.0</td>\n",
              "      <td>1</td>\n",
              "      <td>0</td>\n",
              "      <td>A/5 21171</td>\n",
              "      <td>7.2500</td>\n",
              "      <td>NaN</td>\n",
              "      <td>S</td>\n",
              "    </tr>\n",
              "    <tr>\n",
              "      <th>1</th>\n",
              "      <td>2</td>\n",
              "      <td>1</td>\n",
              "      <td>1</td>\n",
              "      <td>Cumings, Mrs. John Bradley (Florence Briggs Th...</td>\n",
              "      <td>female</td>\n",
              "      <td>38.0</td>\n",
              "      <td>1</td>\n",
              "      <td>0</td>\n",
              "      <td>PC 17599</td>\n",
              "      <td>71.2833</td>\n",
              "      <td>C85</td>\n",
              "      <td>C</td>\n",
              "    </tr>\n",
              "    <tr>\n",
              "      <th>2</th>\n",
              "      <td>3</td>\n",
              "      <td>1</td>\n",
              "      <td>3</td>\n",
              "      <td>Heikkinen, Miss. Laina</td>\n",
              "      <td>female</td>\n",
              "      <td>26.0</td>\n",
              "      <td>0</td>\n",
              "      <td>0</td>\n",
              "      <td>STON/O2. 3101282</td>\n",
              "      <td>7.9250</td>\n",
              "      <td>NaN</td>\n",
              "      <td>S</td>\n",
              "    </tr>\n",
              "    <tr>\n",
              "      <th>3</th>\n",
              "      <td>4</td>\n",
              "      <td>1</td>\n",
              "      <td>1</td>\n",
              "      <td>Futrelle, Mrs. Jacques Heath (Lily May Peel)</td>\n",
              "      <td>female</td>\n",
              "      <td>35.0</td>\n",
              "      <td>1</td>\n",
              "      <td>0</td>\n",
              "      <td>113803</td>\n",
              "      <td>53.1000</td>\n",
              "      <td>C123</td>\n",
              "      <td>S</td>\n",
              "    </tr>\n",
              "    <tr>\n",
              "      <th>4</th>\n",
              "      <td>5</td>\n",
              "      <td>0</td>\n",
              "      <td>3</td>\n",
              "      <td>Allen, Mr. William Henry</td>\n",
              "      <td>male</td>\n",
              "      <td>35.0</td>\n",
              "      <td>0</td>\n",
              "      <td>0</td>\n",
              "      <td>373450</td>\n",
              "      <td>8.0500</td>\n",
              "      <td>NaN</td>\n",
              "      <td>S</td>\n",
              "    </tr>\n",
              "    <tr>\n",
              "      <th>...</th>\n",
              "      <td>...</td>\n",
              "      <td>...</td>\n",
              "      <td>...</td>\n",
              "      <td>...</td>\n",
              "      <td>...</td>\n",
              "      <td>...</td>\n",
              "      <td>...</td>\n",
              "      <td>...</td>\n",
              "      <td>...</td>\n",
              "      <td>...</td>\n",
              "      <td>...</td>\n",
              "      <td>...</td>\n",
              "    </tr>\n",
              "    <tr>\n",
              "      <th>886</th>\n",
              "      <td>887</td>\n",
              "      <td>0</td>\n",
              "      <td>2</td>\n",
              "      <td>Montvila, Rev. Juozas</td>\n",
              "      <td>male</td>\n",
              "      <td>27.0</td>\n",
              "      <td>0</td>\n",
              "      <td>0</td>\n",
              "      <td>211536</td>\n",
              "      <td>13.0000</td>\n",
              "      <td>NaN</td>\n",
              "      <td>S</td>\n",
              "    </tr>\n",
              "    <tr>\n",
              "      <th>887</th>\n",
              "      <td>888</td>\n",
              "      <td>1</td>\n",
              "      <td>1</td>\n",
              "      <td>Graham, Miss. Margaret Edith</td>\n",
              "      <td>female</td>\n",
              "      <td>19.0</td>\n",
              "      <td>0</td>\n",
              "      <td>0</td>\n",
              "      <td>112053</td>\n",
              "      <td>30.0000</td>\n",
              "      <td>B42</td>\n",
              "      <td>S</td>\n",
              "    </tr>\n",
              "    <tr>\n",
              "      <th>888</th>\n",
              "      <td>889</td>\n",
              "      <td>0</td>\n",
              "      <td>3</td>\n",
              "      <td>Johnston, Miss. Catherine Helen \"Carrie\"</td>\n",
              "      <td>female</td>\n",
              "      <td>NaN</td>\n",
              "      <td>1</td>\n",
              "      <td>2</td>\n",
              "      <td>W./C. 6607</td>\n",
              "      <td>23.4500</td>\n",
              "      <td>NaN</td>\n",
              "      <td>S</td>\n",
              "    </tr>\n",
              "    <tr>\n",
              "      <th>889</th>\n",
              "      <td>890</td>\n",
              "      <td>1</td>\n",
              "      <td>1</td>\n",
              "      <td>Behr, Mr. Karl Howell</td>\n",
              "      <td>male</td>\n",
              "      <td>26.0</td>\n",
              "      <td>0</td>\n",
              "      <td>0</td>\n",
              "      <td>111369</td>\n",
              "      <td>30.0000</td>\n",
              "      <td>C148</td>\n",
              "      <td>C</td>\n",
              "    </tr>\n",
              "    <tr>\n",
              "      <th>890</th>\n",
              "      <td>891</td>\n",
              "      <td>0</td>\n",
              "      <td>3</td>\n",
              "      <td>Dooley, Mr. Patrick</td>\n",
              "      <td>male</td>\n",
              "      <td>32.0</td>\n",
              "      <td>0</td>\n",
              "      <td>0</td>\n",
              "      <td>370376</td>\n",
              "      <td>7.7500</td>\n",
              "      <td>NaN</td>\n",
              "      <td>Q</td>\n",
              "    </tr>\n",
              "  </tbody>\n",
              "</table>\n",
              "<p>891 rows × 12 columns</p>\n",
              "</div>"
            ],
            "text/plain": [
              "     PassengerId  Survived  Pclass  \\\n",
              "0              1         0       3   \n",
              "1              2         1       1   \n",
              "2              3         1       3   \n",
              "3              4         1       1   \n",
              "4              5         0       3   \n",
              "..           ...       ...     ...   \n",
              "886          887         0       2   \n",
              "887          888         1       1   \n",
              "888          889         0       3   \n",
              "889          890         1       1   \n",
              "890          891         0       3   \n",
              "\n",
              "                                                  Name     Sex   Age  Sibsp  \\\n",
              "0                              Braund, Mr. Owen Harris    male  22.0      1   \n",
              "1    Cumings, Mrs. John Bradley (Florence Briggs Th...  female  38.0      1   \n",
              "2                               Heikkinen, Miss. Laina  female  26.0      0   \n",
              "3         Futrelle, Mrs. Jacques Heath (Lily May Peel)  female  35.0      1   \n",
              "4                             Allen, Mr. William Henry    male  35.0      0   \n",
              "..                                                 ...     ...   ...    ...   \n",
              "886                              Montvila, Rev. Juozas    male  27.0      0   \n",
              "887                       Graham, Miss. Margaret Edith  female  19.0      0   \n",
              "888           Johnston, Miss. Catherine Helen \"Carrie\"  female   NaN      1   \n",
              "889                              Behr, Mr. Karl Howell    male  26.0      0   \n",
              "890                                Dooley, Mr. Patrick    male  32.0      0   \n",
              "\n",
              "     Parch            Ticket     Fare Cabin Embarked  \n",
              "0        0         A/5 21171   7.2500   NaN        S  \n",
              "1        0          PC 17599  71.2833   C85        C  \n",
              "2        0  STON/O2. 3101282   7.9250   NaN        S  \n",
              "3        0            113803  53.1000  C123        S  \n",
              "4        0            373450   8.0500   NaN        S  \n",
              "..     ...               ...      ...   ...      ...  \n",
              "886      0            211536  13.0000   NaN        S  \n",
              "887      0            112053  30.0000   B42        S  \n",
              "888      2        W./C. 6607  23.4500   NaN        S  \n",
              "889      0            111369  30.0000  C148        C  \n",
              "890      0            370376   7.7500   NaN        Q  \n",
              "\n",
              "[891 rows x 12 columns]"
            ]
          },
          "execution_count": 49,
          "metadata": {},
          "output_type": "execute_result"
        }
      ],
      "source": [
        "titanic.insert(0, 'PassengerId', range(1, len(titanic) + 1))\n",
        "titanic"
      ]
    },
    {
      "cell_type": "markdown",
      "metadata": {
        "id": "yH9DviGeLYiu"
      },
      "source": [
        "Таблица имеет размер: 891 строка, 12 столбов."
      ]
    },
    {
      "cell_type": "markdown",
      "metadata": {
        "id": "8f1_cl1Ojg9r"
      },
      "source": [
        "### 2"
      ]
    },
    {
      "cell_type": "markdown",
      "metadata": {
        "id": "FxJDNYhMljdc"
      },
      "source": [
        "### 3"
      ]
    },
    {
      "cell_type": "markdown",
      "metadata": {
        "id": "UVDua9fQllw6"
      },
      "source": [
        "Come up with three data analysis tasks that could be solved for this dataset:\n",
        "\n",
        "1. Regression task - in other words, predicting a certain numerical outcome for each object.\n",
        "2. Classification task - in other words, assigning each object to one of two or more predefined classes (groups).\n",
        "3. Clustering task - in other words, grouping all objects into an unknown number of clusters based on their similarity to each other.\n",
        "\n",
        "*You can learn more about what regression, classification, and clustering tasks represent, for example, on Wikipedia. There's also an explanation in simple language with a specific example in this [article](https://habr.com/en/company/simbirsoft/blog/565396/) (at the beginning).*"
      ]
    },
    {
      "cell_type": "markdown",
      "metadata": {
        "id": "2hrANQDyFYAK"
      },
      "source": [
        "1) Does a person's chance of survival increase if they were not alone on board?\n",
        "2) Whose survival rate is better, women's or men's?\n",
        "3) Group passengers by cabin class, based on whether they survived or not."
      ]
    },
    {
      "cell_type": "markdown",
      "metadata": {
        "id": "w4CScFwLZKgg"
      },
      "source": [
        "### 4"
      ]
    },
    {
      "cell_type": "markdown",
      "metadata": {
        "id": "eQLEQXd-ZKgg"
      },
      "source": [
        "What is the proportion of survivors among the crashed passengers? What is the proportion of men and women among the survivors?"
      ]
    },
    {
      "cell_type": "code",
      "execution_count": null,
      "metadata": {
        "id": "-uzVP9fTZKgg",
        "outputId": "464607d6-8545-4d39-e99a-515ac5cdf56e"
      },
      "outputs": [
        {
          "name": "stdout",
          "output_type": "stream",
          "text": [
            "0.3838383838383838\n",
            "0.31871345029239767 0.6812865497076024\n"
          ]
        }
      ],
      "source": [
        "#data_by_survive = titanic.groupby('Survived')\n",
        "#data_by_survive.describe()\n",
        "surv=titanic[titanic[\"Survived\"] == 1]\n",
        "print(surv.shape[0]/titanic.shape[0])#The proportion of survivors.\n",
        "male=titanic[(titanic[\"Sex\"] == \"male\") & (titanic[\"Survived\"] == 1)]\n",
        "female=titanic[(titanic[\"Sex\"] == \"female\") & (titanic[\"Survived\"] == 1)]\n",
        "#print(male.shape, female.shape, titanic.shape, surv.shape) #The number of men, women, and passengers.\n",
        "print(male.shape[0]/surv.shape[0], female.shape[0]/surv.shape[0])"
      ]
    },
    {
      "cell_type": "markdown",
      "metadata": {
        "id": "TWcTzpQkLYiw"
      },
      "source": [
        "Conclusions: Proportion of surviving passengers: 0.38; When looking at the survivors by gender, there were more female survivors, accounting for 0.68 of the total, which is logical since women and children are usually prioritized for rescue. The proportion of male survivors among the total is 0.32."
      ]
    },
    {
      "cell_type": "markdown",
      "metadata": {
        "id": "3Y8ILyzlZKgg"
      },
      "source": [
        "### 5"
      ]
    },
    {
      "cell_type": "markdown",
      "metadata": {
        "id": "nEfsxhQUZKgg"
      },
      "source": [
        "How many passengers were traveling in each class? In the most populous class, were there more men or women?"
      ]
    },
    {
      "cell_type": "code",
      "execution_count": null,
      "metadata": {
        "id": "kQVTfRKFZKgg",
        "outputId": "3bc11446-08a1-4f55-de32-ed14def65109"
      },
      "outputs": [
        {
          "name": "stdout",
          "output_type": "stream",
          "text": [
            "216 184 491\n",
            "347 144\n"
          ]
        }
      ],
      "source": [
        "first=titanic[titanic[\"Pclass\"]==1]\n",
        "second=titanic[titanic[\"Pclass\"]==2]\n",
        "third=titanic[titanic[\"Pclass\"]==3]\n",
        "print(first.shape[0], second.shape[0], third.shape[0])\n",
        "male=third[third[\"Sex\"] == \"male\"]\n",
        "female=third[third[\"Sex\"] == \"female\"]\n",
        "print(male.shape[0], female.shape[0])"
      ]
    },
    {
      "cell_type": "markdown",
      "metadata": {
        "id": "to4RnDgpLYiw"
      },
      "source": [
        "Conclusions: There were 216 passengers in the first class, 184 in the second class, and 491 in the most populous third class. In the third class, there were more men than women, with 347 men compared to 144 women."
      ]
    },
    {
      "cell_type": "markdown",
      "metadata": {
        "id": "d9G-K_H0ZKgh"
      },
      "source": [
        "### 6"
      ]
    },
    {
      "cell_type": "markdown",
      "metadata": {
        "id": "gM69Tv9sZKgh"
      },
      "source": [
        "Display the minimum, average, and maximum fare amounts paid by passengers. Perform the same analysis for passengers who boarded the ship in Southampton. Display histograms depicting the distribution of ticket fares based on the embarkation point. What can be concluded from the results you obtain?"
      ]
    },
    {
      "cell_type": "code",
      "execution_count": null,
      "metadata": {
        "id": "JNyWyX1pZKgh",
        "outputId": "377cb30e-cd88-4b52-ad14-455e5c66d3bc"
      },
      "outputs": [
        {
          "name": "stdout",
          "output_type": "stream",
          "text": [
            "0.0 32.204207968574636 512.3292\n",
            "0.0 27.079811801242233 263.0\n"
          ]
        },
        {
          "data": {
            "image/png": "[encoded data removed]",
            "text/plain": [
              "<Figure size 1500x800 with 1 Axes>"
            ]
          },
          "metadata": {},
          "output_type": "display_data"
        }
      ],
      "source": [
        "print(titanic[\"Fare\"].min(), titanic[\"Fare\"].mean(), titanic[\"Fare\"].max())\n",
        "titanic1 = titanic[titanic[\"Embarked\"] == \"S\"]\n",
        "print(titanic1[\"Fare\"].min(), titanic1[\"Fare\"].mean(), titanic1[\"Fare\"].max())\n",
        "\n",
        "plt.figure(figsize=(15, 8))\n",
        "plt.title('Ticket Fare Distributions Based on Embarkation Point')\n",
        "plt.hist(titanic[titanic[\"Embarked\"] == \"C\"][\"Fare\"], alpha=0.4)\n",
        "plt.hist(titanic[titanic[\"Embarked\"] == \"Q\"][\"Fare\"], alpha=1)\n",
        "plt.hist(titanic[titanic[\"Embarked\"] == \"S\"][\"Fare\"], alpha=0.3)\n",
        "plt.legend(['Cherbourg', 'Queenstown', 'Southampton'])\n",
        "plt.xlabel('Fare')\n",
        "plt.ylabel('Count')\n",
        "plt.show()\n"
      ]
    },
    {
      "cell_type": "markdown",
      "metadata": {
        "id": "30-35f5nLYix"
      },
      "source": [
        "Conclusions:\n",
        "1) For the first task, it's a straightforward calculation. The minimum fare paid by a passenger was 0 (since some tickets were given away); the average fare was 32.2; and the maximum fare was 512.33. Regarding passengers who boarded the ship in Southampton, the minimum fare paid was 0; the average fare was 27.1; and the maximum fare was 263.\n",
        "2) For the second task, as evident from the graph, the passenger who paid the maximum fare, and in general, passengers who bought the most expensive tickets, boarded in Cherbourg. The majority of passengers with the cheapest tickets boarded in Southampton. Interestingly, the fewest passengers (less than 100) boarded the ship in Queenstown."
      ]
    },
    {
      "cell_type": "markdown",
      "metadata": {
        "id": "VQ_ocDkOZKgh"
      },
      "source": [
        "### 7"
      ]
    },
    {
      "cell_type": "markdown",
      "metadata": {
        "id": "Z92wE5uJZKgh"
      },
      "source": [
        "Do all the features contain useful information? Why? Remove unnecessary columns. Justify your choice."
      ]
    },
    {
      "cell_type": "code",
      "execution_count": null,
      "metadata": {
        "id": "f79iiwhuZKgh",
        "outputId": "f432123f-978d-46f3-fc40-0c1dccee2002"
      },
      "outputs": [
        {
          "data": {
            "text/html": [
              "<div>\n",
              "<style scoped>\n",
              "    .dataframe tbody tr th:only-of-type {\n",
              "        vertical-align: middle;\n",
              "    }\n",
              "\n",
              "    .dataframe tbody tr th {\n",
              "        vertical-align: top;\n",
              "    }\n",
              "\n",
              "    .dataframe thead th {\n",
              "        text-align: right;\n",
              "    }\n",
              "</style>\n",
              "<table border=\"1\" class=\"dataframe\">\n",
              "  <thead>\n",
              "    <tr style=\"text-align: right;\">\n",
              "      <th></th>\n",
              "      <th>Survived</th>\n",
              "      <th>Pclass</th>\n",
              "      <th>Name</th>\n",
              "      <th>Sex</th>\n",
              "      <th>Age</th>\n",
              "      <th>Sibsp</th>\n",
              "      <th>Parch</th>\n",
              "      <th>Fare</th>\n",
              "      <th>Cabin</th>\n",
              "      <th>Embarked</th>\n",
              "    </tr>\n",
              "  </thead>\n",
              "  <tbody>\n",
              "    <tr>\n",
              "      <th>0</th>\n",
              "      <td>0</td>\n",
              "      <td>3</td>\n",
              "      <td>Braund, Mr. Owen Harris</td>\n",
              "      <td>male</td>\n",
              "      <td>22.0</td>\n",
              "      <td>1</td>\n",
              "      <td>0</td>\n",
              "      <td>7.2500</td>\n",
              "      <td>NaN</td>\n",
              "      <td>S</td>\n",
              "    </tr>\n",
              "    <tr>\n",
              "      <th>1</th>\n",
              "      <td>1</td>\n",
              "      <td>1</td>\n",
              "      <td>Cumings, Mrs. John Bradley (Florence Briggs Th...</td>\n",
              "      <td>female</td>\n",
              "      <td>38.0</td>\n",
              "      <td>1</td>\n",
              "      <td>0</td>\n",
              "      <td>71.2833</td>\n",
              "      <td>C85</td>\n",
              "      <td>C</td>\n",
              "    </tr>\n",
              "    <tr>\n",
              "      <th>2</th>\n",
              "      <td>1</td>\n",
              "      <td>3</td>\n",
              "      <td>Heikkinen, Miss. Laina</td>\n",
              "      <td>female</td>\n",
              "      <td>26.0</td>\n",
              "      <td>0</td>\n",
              "      <td>0</td>\n",
              "      <td>7.9250</td>\n",
              "      <td>NaN</td>\n",
              "      <td>S</td>\n",
              "    </tr>\n",
              "    <tr>\n",
              "      <th>3</th>\n",
              "      <td>1</td>\n",
              "      <td>1</td>\n",
              "      <td>Futrelle, Mrs. Jacques Heath (Lily May Peel)</td>\n",
              "      <td>female</td>\n",
              "      <td>35.0</td>\n",
              "      <td>1</td>\n",
              "      <td>0</td>\n",
              "      <td>53.1000</td>\n",
              "      <td>C123</td>\n",
              "      <td>S</td>\n",
              "    </tr>\n",
              "    <tr>\n",
              "      <th>4</th>\n",
              "      <td>0</td>\n",
              "      <td>3</td>\n",
              "      <td>Allen, Mr. William Henry</td>\n",
              "      <td>male</td>\n",
              "      <td>35.0</td>\n",
              "      <td>0</td>\n",
              "      <td>0</td>\n",
              "      <td>8.0500</td>\n",
              "      <td>NaN</td>\n",
              "      <td>S</td>\n",
              "    </tr>\n",
              "  </tbody>\n",
              "</table>\n",
              "</div>"
            ],
            "text/plain": [
              "   Survived  Pclass                                               Name  \\\n",
              "0         0       3                            Braund, Mr. Owen Harris   \n",
              "1         1       1  Cumings, Mrs. John Bradley (Florence Briggs Th...   \n",
              "2         1       3                             Heikkinen, Miss. Laina   \n",
              "3         1       1       Futrelle, Mrs. Jacques Heath (Lily May Peel)   \n",
              "4         0       3                           Allen, Mr. William Henry   \n",
              "\n",
              "      Sex   Age  Sibsp  Parch     Fare Cabin Embarked  \n",
              "0    male  22.0      1      0   7.2500   NaN        S  \n",
              "1  female  38.0      1      0  71.2833   C85        C  \n",
              "2  female  26.0      0      0   7.9250   NaN        S  \n",
              "3  female  35.0      1      0  53.1000  C123        S  \n",
              "4    male  35.0      0      0   8.0500   NaN        S  "
            ]
          },
          "execution_count": 53,
          "metadata": {},
          "output_type": "execute_result"
        }
      ],
      "source": [
        "titanic=titanic.drop(columns=['PassengerId'])\n",
        "titanic=titanic.drop(columns=['Ticket'])\n",
        "titanic.head()"
      ]
    },
    {
      "cell_type": "markdown",
      "metadata": {
        "id": "_L9cTETELYix"
      },
      "source": [
        "Conclusions: Passenger IDs are unnecessary as pandas automatically assigns index to passengers. Ticket numbers are the most ambiguous variable in this dataset. I encountered difficulties in identifying this column even in the second task because it's impossible to treat it as a unified entity due to the varying ticket formats."
      ]
    },
    {
      "cell_type": "markdown",
      "metadata": {
        "id": "L5KAIFPBZKgi"
      },
      "source": [
        "### 8"
      ]
    },
    {
      "cell_type": "markdown",
      "metadata": {
        "id": "Tv3QepvHZKgi"
      },
      "source": [
        "Are there any missing values in the data? If yes, in which columns? How many missing values are there in each of them?"
      ]
    },
    {
      "cell_type": "code",
      "execution_count": null,
      "metadata": {
        "id": "wgP23TD3ZKgi",
        "outputId": "baa3e465-af21-439f-ec09-ae37a63b1d63"
      },
      "outputs": [
        {
          "name": "stdout",
          "output_type": "stream",
          "text": [
            "True\n"
          ]
        },
        {
          "data": {
            "text/plain": [
              "Survived      0\n",
              "Pclass        0\n",
              "Name          0\n",
              "Sex           0\n",
              "Age         177\n",
              "Sibsp         0\n",
              "Parch         0\n",
              "Fare          0\n",
              "Cabin       687\n",
              "Embarked      2\n",
              "dtype: int64"
            ]
          },
          "execution_count": 54,
          "metadata": {},
          "output_type": "execute_result"
        }
      ],
      "source": [
        "print(titanic.isnull().any().any())\n",
        "titanic.isnull().sum()"
      ]
    },
    {
      "cell_type": "markdown",
      "metadata": {
        "id": "11DQ5xZhLYiy"
      },
      "source": [
        "\n",
        "Conclusions: Yes, as indicated by the first print statement, there are missing values in the dataframe. There are 177 missing values in the 'Age' column, 687 missing entries for passenger cabins, and 2 missing values regarding the embarkation port."
      ]
    },
    {
      "cell_type": "markdown",
      "metadata": {
        "id": "qGro4dvuZKgi"
      },
      "source": [
        "### 9"
      ]
    },
    {
      "cell_type": "markdown",
      "metadata": {
        "id": "SgT8Zb9gZKgi"
      },
      "source": [
        "\n",
        "Think about how to fill in the missing values in each column and do so. Make sure that there are no missing values left anywhere.\n"
      ]
    },
    {
      "cell_type": "code",
      "execution_count": null,
      "metadata": {
        "id": "1XaVOZf0ZKgi",
        "outputId": "0c67d7fe-d1be-4987-f158-a045551d6636"
      },
      "outputs": [
        {
          "data": {
            "text/plain": [
              "False"
            ]
          },
          "execution_count": 55,
          "metadata": {},
          "output_type": "execute_result"
        }
      ],
      "source": [
        "titanic[\"Age\"]=titanic[\"Age\"].fillna(titanic[\"Age\"].mean())\n",
        "titanic[\"Embarked\"]=titanic[\"Embarked\"].fillna('S')\n",
        "titanic[\"Cabin\"]=titanic[\"Cabin\"].fillna('N')\n",
        "titanic.isnull().any().any()"
      ]
    },
    {
      "cell_type": "markdown",
      "metadata": {
        "id": "bupRZy6hLYiy"
      },
      "source": [
        "Conclusion: For the 'Age' column, I will fill the missing values with the mean age. In the 'Embarked' column, there are two missing values. Since the majority of passengers boarded from port \"S,\" I will assign these missing values to that port. Additionally, for passengers with unknown cabins, I've assigned \"N.\""
      ]
    },
    {
      "cell_type": "markdown",
      "metadata": {
        "id": "sTOh2jQ2ZKgj"
      },
      "source": [
        "### 10"
      ]
    },
    {
      "cell_type": "markdown",
      "metadata": {
        "id": "961UOK2CZKgj"
      },
      "source": [
        "Calculate the correlation between the ticket fare and the age of passengers. Also, visually check the presence of this relationship using a scatter plot. This scatter plot can assist you in visualization. What conclusions can be drawn?"
      ]
    },
    {
      "cell_type": "code",
      "execution_count": null,
      "metadata": {
        "id": "9T42qGrkZKgj",
        "outputId": "e08d7391-0645-41dd-8597-0791c7067b8e"
      },
      "outputs": [
        {
          "name": "stdout",
          "output_type": "stream",
          "text": [
            "0.09156609328505762\n"
          ]
        },
        {
          "data": {
            "image/png": "[encoded data removed]",
            "text/plain": [
              "<Figure size 1000x500 with 1 Axes>"
            ]
          },
          "metadata": {},
          "output_type": "display_data"
        }
      ],
      "source": [
        "print(titanic[\"Fare\"].corr(titanic[\"Age\"]))\n",
        "\n",
        "plt.figure(figsize=(10, 5))\n",
        "plt.title('Dependency of Ticket Fare on Age')\n",
        "\n",
        "plt.scatter(titanic[titanic[\"Pclass\"] == 1]['Fare'], titanic[titanic[\"Pclass\"] == 1]['Age'], alpha=0.2)\n",
        "plt.scatter(titanic[titanic[\"Pclass\"] == 2]['Fare'], titanic[titanic[\"Pclass\"] == 2]['Age'], alpha=0.2)\n",
        "plt.scatter(titanic[titanic[\"Pclass\"] == 3]['Fare'], titanic[titanic[\"Pclass\"] == 3]['Age'], alpha=0.2)\n",
        "plt.legend(['First class', 'Second class', 'Third class'])\n",
        "plt.xlabel('Fare')\n",
        "plt.ylabel('Age')\n",
        "plt.show()\n"
      ]
    },
    {
      "cell_type": "markdown",
      "metadata": {
        "id": "kNhrT2aSLYiy"
      },
      "source": [
        "Conclusions: The correlation is 0.1, indicating a very weak correlation, which is further confirmed by the scatter plot. The plot illustrates that the relationship is primarily driven by passenger class. Fare is more dependent on the ticket class rather than age, as demonstrated in the graph."
      ]
    },
    {
      "cell_type": "markdown",
      "metadata": {
        "id": "mwGBdBzhZKgj"
      },
      "source": [
        "### 11"
      ]
    },
    {
      "cell_type": "markdown",
      "metadata": {
        "id": "AmYX1S_HZKgj"
      },
      "source": [
        "\n",
        "Is it true that passengers with more expensive tickets were more likely to survive? Is there a correlation between survival rate and class? Justify your answer."
      ]
    },
    {
      "cell_type": "code",
      "execution_count": null,
      "metadata": {
        "id": "xjWnCLgpZKgj",
        "outputId": "ca8e261d-9978-4e37-badc-50eb73d6470d"
      },
      "outputs": [
        {
          "name": "stdout",
          "output_type": "stream",
          "text": [
            "48.39540760233918 22.117886885245902\n",
            "0.6296296296296297 0.47282608695652173 0.24236252545824846\n"
          ]
        }
      ],
      "source": [
        "print(titanic[titanic[\"Survived\"]==1][\"Fare\"].mean(), titanic[titanic[\"Survived\"]==0][\"Fare\"].mean())\n",
        "t1=titanic[(titanic[\"Survived\"]==1) & (titanic[\"Pclass\"]==1)]\n",
        "t11=titanic[titanic[\"Pclass\"]==1]\n",
        "t2=titanic[(titanic[\"Survived\"]==1) & (titanic[\"Pclass\"]==2)]\n",
        "t22=titanic[titanic[\"Pclass\"]==2]\n",
        "t3=titanic[(titanic[\"Survived\"]==1) & (titanic[\"Pclass\"]==3)]\n",
        "t33=titanic[titanic[\"Pclass\"]==3]\n",
        "print(t1.shape[0]/t11.shape[0], t2.shape[0]/t22.shape[0], t3.shape[0]/t33.shape[0])"
      ]
    },
    {
      "cell_type": "markdown",
      "metadata": {
        "id": "Rj5kTTaNLYiz"
      },
      "source": [
        "Conclusions:\n",
        "1) The average ticket fare for survivors was 48.4, whereas for non-survivors it was 22.12. This suggests that the chance of survival was higher for passengers with more expensive tickets.\n",
        "2) The correlation between survival rate and class is evident. Survival rates by class were as follows: 63% for first class, 47% for second class, and 24% for third class. This indicates, similar to the first point, that higher class correlated with higher survival rates."
      ]
    },
    {
      "cell_type": "markdown",
      "metadata": {
        "id": "iQ3Q-4AMZKgk"
      },
      "source": [
        "### 12"
      ]
    },
    {
      "cell_type": "markdown",
      "metadata": {
        "id": "brZ1VUheZKgk"
      },
      "source": [
        "Creating new features (feature engineering) is one of the key ways to improve the performance of machine learning algorithms during data preprocessing. It's also an excellent way to enhance the quality of your insights from the analysis as a whole! Add a column to the table that will indicate how many relatives were on the ship with the passenger, including the passenger themselves. How could such a feature be useful?"
      ]
    },
    {
      "cell_type": "code",
      "execution_count": null,
      "metadata": {
        "id": "IUpwi7PmZKgk",
        "outputId": "16fd936d-ebe2-4c54-8eea-55036fa4b3dd"
      },
      "outputs": [
        {
          "data": {
            "text/html": [
              "<div>\n",
              "<style scoped>\n",
              "    .dataframe tbody tr th:only-of-type {\n",
              "        vertical-align: middle;\n",
              "    }\n",
              "\n",
              "    .dataframe tbody tr th {\n",
              "        vertical-align: top;\n",
              "    }\n",
              "\n",
              "    .dataframe thead th {\n",
              "        text-align: right;\n",
              "    }\n",
              "</style>\n",
              "<table border=\"1\" class=\"dataframe\">\n",
              "  <thead>\n",
              "    <tr style=\"text-align: right;\">\n",
              "      <th></th>\n",
              "      <th>Survived</th>\n",
              "      <th>Pclass</th>\n",
              "      <th>Name</th>\n",
              "      <th>Sex</th>\n",
              "      <th>Age</th>\n",
              "      <th>Sibsp</th>\n",
              "      <th>Parch</th>\n",
              "      <th>Fare</th>\n",
              "      <th>Cabin</th>\n",
              "      <th>Embarked</th>\n",
              "      <th>Relatives</th>\n",
              "    </tr>\n",
              "  </thead>\n",
              "  <tbody>\n",
              "    <tr>\n",
              "      <th>0</th>\n",
              "      <td>0</td>\n",
              "      <td>3</td>\n",
              "      <td>Braund, Mr. Owen Harris</td>\n",
              "      <td>male</td>\n",
              "      <td>22.0</td>\n",
              "      <td>1</td>\n",
              "      <td>0</td>\n",
              "      <td>7.2500</td>\n",
              "      <td>N</td>\n",
              "      <td>S</td>\n",
              "      <td>2</td>\n",
              "    </tr>\n",
              "    <tr>\n",
              "      <th>1</th>\n",
              "      <td>1</td>\n",
              "      <td>1</td>\n",
              "      <td>Cumings, Mrs. John Bradley (Florence Briggs Th...</td>\n",
              "      <td>female</td>\n",
              "      <td>38.0</td>\n",
              "      <td>1</td>\n",
              "      <td>0</td>\n",
              "      <td>71.2833</td>\n",
              "      <td>C85</td>\n",
              "      <td>C</td>\n",
              "      <td>2</td>\n",
              "    </tr>\n",
              "    <tr>\n",
              "      <th>2</th>\n",
              "      <td>1</td>\n",
              "      <td>3</td>\n",
              "      <td>Heikkinen, Miss. Laina</td>\n",
              "      <td>female</td>\n",
              "      <td>26.0</td>\n",
              "      <td>0</td>\n",
              "      <td>0</td>\n",
              "      <td>7.9250</td>\n",
              "      <td>N</td>\n",
              "      <td>S</td>\n",
              "      <td>1</td>\n",
              "    </tr>\n",
              "    <tr>\n",
              "      <th>3</th>\n",
              "      <td>1</td>\n",
              "      <td>1</td>\n",
              "      <td>Futrelle, Mrs. Jacques Heath (Lily May Peel)</td>\n",
              "      <td>female</td>\n",
              "      <td>35.0</td>\n",
              "      <td>1</td>\n",
              "      <td>0</td>\n",
              "      <td>53.1000</td>\n",
              "      <td>C123</td>\n",
              "      <td>S</td>\n",
              "      <td>2</td>\n",
              "    </tr>\n",
              "    <tr>\n",
              "      <th>4</th>\n",
              "      <td>0</td>\n",
              "      <td>3</td>\n",
              "      <td>Allen, Mr. William Henry</td>\n",
              "      <td>male</td>\n",
              "      <td>35.0</td>\n",
              "      <td>0</td>\n",
              "      <td>0</td>\n",
              "      <td>8.0500</td>\n",
              "      <td>N</td>\n",
              "      <td>S</td>\n",
              "      <td>1</td>\n",
              "    </tr>\n",
              "  </tbody>\n",
              "</table>\n",
              "</div>"
            ],
            "text/plain": [
              "   Survived  Pclass                                               Name  \\\n",
              "0         0       3                            Braund, Mr. Owen Harris   \n",
              "1         1       1  Cumings, Mrs. John Bradley (Florence Briggs Th...   \n",
              "2         1       3                             Heikkinen, Miss. Laina   \n",
              "3         1       1       Futrelle, Mrs. Jacques Heath (Lily May Peel)   \n",
              "4         0       3                           Allen, Mr. William Henry   \n",
              "\n",
              "      Sex   Age  Sibsp  Parch     Fare Cabin Embarked  Relatives  \n",
              "0    male  22.0      1      0   7.2500     N        S          2  \n",
              "1  female  38.0      1      0  71.2833   C85        C          2  \n",
              "2  female  26.0      0      0   7.9250     N        S          1  \n",
              "3  female  35.0      1      0  53.1000  C123        S          2  \n",
              "4    male  35.0      0      0   8.0500     N        S          1  "
            ]
          },
          "execution_count": 58,
          "metadata": {},
          "output_type": "execute_result"
        }
      ],
      "source": [
        "titanic['Relatives']=1+titanic['Sibsp']+titanic['Parch']\n",
        "titanic.head()"
      ]
    },
    {
      "cell_type": "markdown",
      "metadata": {
        "id": "3ZxNL4rVLYiz"
      },
      "source": [
        "Conclusions: This new feature allows you to assess the probability of survival if a passenger had relatives on board."
      ]
    },
    {
      "cell_type": "markdown",
      "metadata": {
        "id": "0oQGh1-qJd3x"
      },
      "source": [
        "### 13"
      ]
    },
    {
      "cell_type": "markdown",
      "metadata": {
        "id": "0cF7OwH8Jd3x"
      },
      "source": [
        "Now come up with your own feature that could be useful for analysis (carries some information) and add it to the table. Be sure to justify why your feature is useful."
      ]
    },
    {
      "cell_type": "code",
      "execution_count": null,
      "metadata": {
        "id": "xZ4zS5qzJd3x",
        "outputId": "7cc88a1e-0bf8-4f00-841c-c204cdb74bab"
      },
      "outputs": [
        {
          "data": {
            "text/html": [
              "<div>\n",
              "<style scoped>\n",
              "    .dataframe tbody tr th:only-of-type {\n",
              "        vertical-align: middle;\n",
              "    }\n",
              "\n",
              "    .dataframe tbody tr th {\n",
              "        vertical-align: top;\n",
              "    }\n",
              "\n",
              "    .dataframe thead th {\n",
              "        text-align: right;\n",
              "    }\n",
              "</style>\n",
              "<table border=\"1\" class=\"dataframe\">\n",
              "  <thead>\n",
              "    <tr style=\"text-align: right;\">\n",
              "      <th></th>\n",
              "      <th>Survived</th>\n",
              "      <th>Pclass</th>\n",
              "      <th>Name</th>\n",
              "      <th>Sex</th>\n",
              "      <th>Age</th>\n",
              "      <th>Sibsp</th>\n",
              "      <th>Parch</th>\n",
              "      <th>Fare</th>\n",
              "      <th>Cabin</th>\n",
              "      <th>Embarked</th>\n",
              "      <th>Relatives</th>\n",
              "      <th>Paluba</th>\n",
              "    </tr>\n",
              "  </thead>\n",
              "  <tbody>\n",
              "    <tr>\n",
              "      <th>0</th>\n",
              "      <td>0</td>\n",
              "      <td>3</td>\n",
              "      <td>Braund, Mr. Owen Harris</td>\n",
              "      <td>male</td>\n",
              "      <td>22.0</td>\n",
              "      <td>1</td>\n",
              "      <td>0</td>\n",
              "      <td>7.2500</td>\n",
              "      <td>N</td>\n",
              "      <td>S</td>\n",
              "      <td>2</td>\n",
              "      <td>N</td>\n",
              "    </tr>\n",
              "    <tr>\n",
              "      <th>1</th>\n",
              "      <td>1</td>\n",
              "      <td>1</td>\n",
              "      <td>Cumings, Mrs. John Bradley (Florence Briggs Th...</td>\n",
              "      <td>female</td>\n",
              "      <td>38.0</td>\n",
              "      <td>1</td>\n",
              "      <td>0</td>\n",
              "      <td>71.2833</td>\n",
              "      <td>C85</td>\n",
              "      <td>C</td>\n",
              "      <td>2</td>\n",
              "      <td>C</td>\n",
              "    </tr>\n",
              "    <tr>\n",
              "      <th>2</th>\n",
              "      <td>1</td>\n",
              "      <td>3</td>\n",
              "      <td>Heikkinen, Miss. Laina</td>\n",
              "      <td>female</td>\n",
              "      <td>26.0</td>\n",
              "      <td>0</td>\n",
              "      <td>0</td>\n",
              "      <td>7.9250</td>\n",
              "      <td>N</td>\n",
              "      <td>S</td>\n",
              "      <td>1</td>\n",
              "      <td>N</td>\n",
              "    </tr>\n",
              "    <tr>\n",
              "      <th>3</th>\n",
              "      <td>1</td>\n",
              "      <td>1</td>\n",
              "      <td>Futrelle, Mrs. Jacques Heath (Lily May Peel)</td>\n",
              "      <td>female</td>\n",
              "      <td>35.0</td>\n",
              "      <td>1</td>\n",
              "      <td>0</td>\n",
              "      <td>53.1000</td>\n",
              "      <td>C123</td>\n",
              "      <td>S</td>\n",
              "      <td>2</td>\n",
              "      <td>C</td>\n",
              "    </tr>\n",
              "    <tr>\n",
              "      <th>4</th>\n",
              "      <td>0</td>\n",
              "      <td>3</td>\n",
              "      <td>Allen, Mr. William Henry</td>\n",
              "      <td>male</td>\n",
              "      <td>35.0</td>\n",
              "      <td>0</td>\n",
              "      <td>0</td>\n",
              "      <td>8.0500</td>\n",
              "      <td>N</td>\n",
              "      <td>S</td>\n",
              "      <td>1</td>\n",
              "      <td>N</td>\n",
              "    </tr>\n",
              "  </tbody>\n",
              "</table>\n",
              "</div>"
            ],
            "text/plain": [
              "   Survived  Pclass                                               Name  \\\n",
              "0         0       3                            Braund, Mr. Owen Harris   \n",
              "1         1       1  Cumings, Mrs. John Bradley (Florence Briggs Th...   \n",
              "2         1       3                             Heikkinen, Miss. Laina   \n",
              "3         1       1       Futrelle, Mrs. Jacques Heath (Lily May Peel)   \n",
              "4         0       3                           Allen, Mr. William Henry   \n",
              "\n",
              "      Sex   Age  Sibsp  Parch     Fare Cabin Embarked  Relatives Paluba  \n",
              "0    male  22.0      1      0   7.2500     N        S          2      N  \n",
              "1  female  38.0      1      0  71.2833   C85        C          2      C  \n",
              "2  female  26.0      0      0   7.9250     N        S          1      N  \n",
              "3  female  35.0      1      0  53.1000  C123        S          2      C  \n",
              "4    male  35.0      0      0   8.0500     N        S          1      N  "
            ]
          },
          "execution_count": 59,
          "metadata": {},
          "output_type": "execute_result"
        }
      ],
      "source": [
        "titanic['Paluba'] = titanic[\"Cabin\"].str[0]\n",
        "titanic.head()"
      ]
    },
    {
      "cell_type": "markdown",
      "metadata": {
        "id": "XVpDVLMcLYiz"
      },
      "source": [
        "I added the deck name. On the Titanic, there were a total of 8 decks. One was the lifeboat deck, denoted as T, and the other 7 were labeled based on their level from A to G, with A being the highest. The absence of deck information is marked with the letter N. This feature seemed interesting to me because a person's location on the ship during its sinking affected their chances of survival. The closer the deck level to the lifeboats, the higher the chances of survival. There's even information that those closest to the captain's bridge, located on the lifeboat deck, were among the first to learn about the breach."
      ]
    },
    {
      "cell_type": "markdown",
      "metadata": {
        "id": "v3DjKVAlZKgk"
      },
      "source": [
        "### 14"
      ]
    },
    {
      "cell_type": "markdown",
      "metadata": {
        "id": "zS6FWdVgLYiz"
      },
      "source": [
        "What percentage of children managed to survive? (Children up to 10 years old, inclusive)"
      ]
    },
    {
      "cell_type": "code",
      "execution_count": null,
      "metadata": {
        "id": "-7TpyG0RZKgl",
        "outputId": "efd41262-944e-4c92-8456-269fc77689d1"
      },
      "outputs": [
        {
          "name": "stdout",
          "output_type": "stream",
          "text": [
            "59\n"
          ]
        }
      ],
      "source": [
        "teenA=titanic[(titanic[\"Age\"]<=10)&(titanic[\"Survived\"]==1)]\n",
        "teenN=titanic[(titanic[\"Age\"]<=10)]\n",
        "print(round((teenA.shape[0]/teenN.shape[0])*100))"
      ]
    },
    {
      "cell_type": "markdown",
      "metadata": {
        "id": "P_6kKgO8LYiz"
      },
      "source": [
        "Answer: 59%"
      ]
    },
    {
      "cell_type": "markdown",
      "metadata": {
        "id": "_OotyU0HZKgl"
      },
      "source": [
        "### 15"
      ]
    },
    {
      "cell_type": "markdown",
      "metadata": {
        "id": "_AKVG-9VZKgl"
      },
      "source": [
        "Build histograms for the distribution of real-valued features. Is there a difference in them? What might be the issue with this from both a data analysis and a machine learning perspective? Normalize the real-valued features and see how the situation changes. What conclusions can be drawn from the work done?\n",
        "\n",
        "In-depth answers to the theoretical questions in this task are welcomed and could earn you 1-2 bonus points!"
      ]
    },
    {
      "cell_type": "code",
      "execution_count": null,
      "metadata": {
        "id": "J3KEuS8pZKgl",
        "outputId": "3d74770e-10ee-48a9-9161-8be1ec68f94e"
      },
      "outputs": [
        {
          "data": {
            "image/png": "[encoded data removed]",
            "text/plain": [
              "<Figure size 2000x800 with 1 Axes>"
            ]
          },
          "metadata": {},
          "output_type": "display_data"
        }
      ],
      "source": [
        "plt.figure(figsize=(20,8))\n",
        "plt.title('Passenger Distribution by Number of Siblings/Spouses')\n",
        "plt.hist(titanic[\"Parch\"])\n",
        "plt.xlabel('Number of Parents/Children')\n",
        "plt.ylabel('Count')\n",
        "plt.show()\n"
      ]
    },
    {
      "cell_type": "code",
      "execution_count": null,
      "metadata": {
        "id": "ymkXCo4uLYi0",
        "outputId": "3540635d-047f-425a-84cc-39cccd76ed6f"
      },
      "outputs": [
        {
          "data": {
            "image/png": "[encoded data removed]",
            "text/plain": [
              "<Figure size 2000x800 with 1 Axes>"
            ]
          },
          "metadata": {},
          "output_type": "display_data"
        }
      ],
      "source": [
        "plt.figure(figsize=(20,8))\n",
        "plt.title('Passenger Distribution by Number of Siblings/Spouses')\n",
        "plt.hist(titanic[\"Sibsp\"])\n",
        "plt.xlabel('Number of Siblings/Spouses')\n",
        "plt.ylabel('Count')\n",
        "plt.show()\n"
      ]
    },
    {
      "cell_type": "code",
      "execution_count": null,
      "metadata": {
        "id": "1L5s1D8rLYi0",
        "outputId": "dfcc0550-1418-43cb-b6ee-47972ca0311a"
      },
      "outputs": [
        {
          "data": {
            "image/png": "[encoded data removed]",
            "text/plain": [
              "<Figure size 2000x800 with 1 Axes>"
            ]
          },
          "metadata": {},
          "output_type": "display_data"
        }
      ],
      "source": [
        "plt.figure(figsize=(20,8))\n",
        "plt.title('Passenger Distribution by Number of Parents/Children')\n",
        "plt.hist(titanic[\"Parch\"])\n",
        "plt.xlabel('Number of Parents/Children')\n",
        "plt.ylabel('Count')\n",
        "plt.show()\n"
      ]
    },
    {
      "cell_type": "code",
      "execution_count": null,
      "metadata": {
        "id": "zhXUDNdlLYi0",
        "outputId": "1e7fd96f-f05e-4eb5-c6cd-9f075990ecc5"
      },
      "outputs": [
        {
          "data": {
            "image/png": "[encoded data removed]",
            "text/plain": [
              "<Figure size 2000x800 with 1 Axes>"
            ]
          },
          "metadata": {},
          "output_type": "display_data"
        }
      ],
      "source": [
        "plt.figure(figsize=(20,8))\n",
        "plt.title('Passenger distribution by ticket fare.')\n",
        "plt.hist(titanic[\"Fare\"])\n",
        "plt.xlabel('Стоимость билета')\n",
        "plt.ylabel('Количество')\n",
        "plt.show()"
      ]
    },
    {
      "cell_type": "code",
      "execution_count": null,
      "metadata": {
        "id": "99OUz8p3LYi0",
        "outputId": "14aecaed-392c-4c37-c600-21cce0b54bde"
      },
      "outputs": [
        {
          "data": {
            "text/html": [
              "<div>\n",
              "<style scoped>\n",
              "    .dataframe tbody tr th:only-of-type {\n",
              "        vertical-align: middle;\n",
              "    }\n",
              "\n",
              "    .dataframe tbody tr th {\n",
              "        vertical-align: top;\n",
              "    }\n",
              "\n",
              "    .dataframe thead th {\n",
              "        text-align: right;\n",
              "    }\n",
              "</style>\n",
              "<table border=\"1\" class=\"dataframe\">\n",
              "  <thead>\n",
              "    <tr style=\"text-align: right;\">\n",
              "      <th></th>\n",
              "      <th>Survived</th>\n",
              "      <th>Pclass</th>\n",
              "      <th>Name</th>\n",
              "      <th>Sex</th>\n",
              "      <th>Age</th>\n",
              "      <th>Sibsp</th>\n",
              "      <th>Parch</th>\n",
              "      <th>Fare</th>\n",
              "      <th>Cabin</th>\n",
              "      <th>Embarked</th>\n",
              "      <th>Relatives</th>\n",
              "      <th>Paluba</th>\n",
              "    </tr>\n",
              "  </thead>\n",
              "  <tbody>\n",
              "    <tr>\n",
              "      <th>0</th>\n",
              "      <td>0</td>\n",
              "      <td>3</td>\n",
              "      <td>Braund, Mr. Owen Harris</td>\n",
              "      <td>male</td>\n",
              "      <td>22.000000</td>\n",
              "      <td>1</td>\n",
              "      <td>0</td>\n",
              "      <td>7.2500</td>\n",
              "      <td>N</td>\n",
              "      <td>S</td>\n",
              "      <td>2</td>\n",
              "      <td>N</td>\n",
              "    </tr>\n",
              "    <tr>\n",
              "      <th>1</th>\n",
              "      <td>1</td>\n",
              "      <td>1</td>\n",
              "      <td>Cumings, Mrs. John Bradley (Florence Briggs Th...</td>\n",
              "      <td>female</td>\n",
              "      <td>38.000000</td>\n",
              "      <td>1</td>\n",
              "      <td>0</td>\n",
              "      <td>71.2833</td>\n",
              "      <td>C85</td>\n",
              "      <td>C</td>\n",
              "      <td>2</td>\n",
              "      <td>C</td>\n",
              "    </tr>\n",
              "    <tr>\n",
              "      <th>2</th>\n",
              "      <td>1</td>\n",
              "      <td>3</td>\n",
              "      <td>Heikkinen, Miss. Laina</td>\n",
              "      <td>female</td>\n",
              "      <td>26.000000</td>\n",
              "      <td>0</td>\n",
              "      <td>0</td>\n",
              "      <td>7.9250</td>\n",
              "      <td>N</td>\n",
              "      <td>S</td>\n",
              "      <td>1</td>\n",
              "      <td>N</td>\n",
              "    </tr>\n",
              "    <tr>\n",
              "      <th>3</th>\n",
              "      <td>1</td>\n",
              "      <td>1</td>\n",
              "      <td>Futrelle, Mrs. Jacques Heath (Lily May Peel)</td>\n",
              "      <td>female</td>\n",
              "      <td>35.000000</td>\n",
              "      <td>1</td>\n",
              "      <td>0</td>\n",
              "      <td>53.1000</td>\n",
              "      <td>C123</td>\n",
              "      <td>S</td>\n",
              "      <td>2</td>\n",
              "      <td>C</td>\n",
              "    </tr>\n",
              "    <tr>\n",
              "      <th>4</th>\n",
              "      <td>0</td>\n",
              "      <td>3</td>\n",
              "      <td>Allen, Mr. William Henry</td>\n",
              "      <td>male</td>\n",
              "      <td>35.000000</td>\n",
              "      <td>0</td>\n",
              "      <td>0</td>\n",
              "      <td>8.0500</td>\n",
              "      <td>N</td>\n",
              "      <td>S</td>\n",
              "      <td>1</td>\n",
              "      <td>N</td>\n",
              "    </tr>\n",
              "    <tr>\n",
              "      <th>...</th>\n",
              "      <td>...</td>\n",
              "      <td>...</td>\n",
              "      <td>...</td>\n",
              "      <td>...</td>\n",
              "      <td>...</td>\n",
              "      <td>...</td>\n",
              "      <td>...</td>\n",
              "      <td>...</td>\n",
              "      <td>...</td>\n",
              "      <td>...</td>\n",
              "      <td>...</td>\n",
              "      <td>...</td>\n",
              "    </tr>\n",
              "    <tr>\n",
              "      <th>886</th>\n",
              "      <td>0</td>\n",
              "      <td>2</td>\n",
              "      <td>Montvila, Rev. Juozas</td>\n",
              "      <td>male</td>\n",
              "      <td>27.000000</td>\n",
              "      <td>0</td>\n",
              "      <td>0</td>\n",
              "      <td>13.0000</td>\n",
              "      <td>N</td>\n",
              "      <td>S</td>\n",
              "      <td>1</td>\n",
              "      <td>N</td>\n",
              "    </tr>\n",
              "    <tr>\n",
              "      <th>887</th>\n",
              "      <td>1</td>\n",
              "      <td>1</td>\n",
              "      <td>Graham, Miss. Margaret Edith</td>\n",
              "      <td>female</td>\n",
              "      <td>19.000000</td>\n",
              "      <td>0</td>\n",
              "      <td>0</td>\n",
              "      <td>30.0000</td>\n",
              "      <td>B42</td>\n",
              "      <td>S</td>\n",
              "      <td>1</td>\n",
              "      <td>B</td>\n",
              "    </tr>\n",
              "    <tr>\n",
              "      <th>888</th>\n",
              "      <td>0</td>\n",
              "      <td>3</td>\n",
              "      <td>Johnston, Miss. Catherine Helen \"Carrie\"</td>\n",
              "      <td>female</td>\n",
              "      <td>29.699118</td>\n",
              "      <td>1</td>\n",
              "      <td>2</td>\n",
              "      <td>23.4500</td>\n",
              "      <td>N</td>\n",
              "      <td>S</td>\n",
              "      <td>4</td>\n",
              "      <td>N</td>\n",
              "    </tr>\n",
              "    <tr>\n",
              "      <th>889</th>\n",
              "      <td>1</td>\n",
              "      <td>1</td>\n",
              "      <td>Behr, Mr. Karl Howell</td>\n",
              "      <td>male</td>\n",
              "      <td>26.000000</td>\n",
              "      <td>0</td>\n",
              "      <td>0</td>\n",
              "      <td>30.0000</td>\n",
              "      <td>C148</td>\n",
              "      <td>C</td>\n",
              "      <td>1</td>\n",
              "      <td>C</td>\n",
              "    </tr>\n",
              "    <tr>\n",
              "      <th>890</th>\n",
              "      <td>0</td>\n",
              "      <td>3</td>\n",
              "      <td>Dooley, Mr. Patrick</td>\n",
              "      <td>male</td>\n",
              "      <td>32.000000</td>\n",
              "      <td>0</td>\n",
              "      <td>0</td>\n",
              "      <td>7.7500</td>\n",
              "      <td>N</td>\n",
              "      <td>Q</td>\n",
              "      <td>1</td>\n",
              "      <td>N</td>\n",
              "    </tr>\n",
              "  </tbody>\n",
              "</table>\n",
              "<p>891 rows × 12 columns</p>\n",
              "</div>"
            ],
            "text/plain": [
              "     Survived  Pclass                                               Name  \\\n",
              "0           0       3                            Braund, Mr. Owen Harris   \n",
              "1           1       1  Cumings, Mrs. John Bradley (Florence Briggs Th...   \n",
              "2           1       3                             Heikkinen, Miss. Laina   \n",
              "3           1       1       Futrelle, Mrs. Jacques Heath (Lily May Peel)   \n",
              "4           0       3                           Allen, Mr. William Henry   \n",
              "..        ...     ...                                                ...   \n",
              "886         0       2                              Montvila, Rev. Juozas   \n",
              "887         1       1                       Graham, Miss. Margaret Edith   \n",
              "888         0       3           Johnston, Miss. Catherine Helen \"Carrie\"   \n",
              "889         1       1                              Behr, Mr. Karl Howell   \n",
              "890         0       3                                Dooley, Mr. Patrick   \n",
              "\n",
              "        Sex        Age  Sibsp  Parch     Fare Cabin Embarked  Relatives Paluba  \n",
              "0      male  22.000000      1      0   7.2500     N        S          2      N  \n",
              "1    female  38.000000      1      0  71.2833   C85        C          2      C  \n",
              "2    female  26.000000      0      0   7.9250     N        S          1      N  \n",
              "3    female  35.000000      1      0  53.1000  C123        S          2      C  \n",
              "4      male  35.000000      0      0   8.0500     N        S          1      N  \n",
              "..      ...        ...    ...    ...      ...   ...      ...        ...    ...  \n",
              "886    male  27.000000      0      0  13.0000     N        S          1      N  \n",
              "887  female  19.000000      0      0  30.0000   B42        S          1      B  \n",
              "888  female  29.699118      1      2  23.4500     N        S          4      N  \n",
              "889    male  26.000000      0      0  30.0000  C148        C          1      C  \n",
              "890    male  32.000000      0      0   7.7500     N        Q          1      N  \n",
              "\n",
              "[891 rows x 12 columns]"
            ]
          },
          "execution_count": 65,
          "metadata": {},
          "output_type": "execute_result"
        }
      ],
      "source": [
        "titanic"
      ]
    },
    {
      "cell_type": "code",
      "execution_count": null,
      "metadata": {
        "id": "2cE0_QLdLYi0"
      },
      "outputs": [],
      "source": []
    },
    {
      "cell_type": "markdown",
      "metadata": {
        "id": "pTh7szJeLYi0"
      },
      "source": [
        "Conclusion #1: Naturally, there is a difference in their distributions as all the data have different units of measurement, some in years, some in monetary currency, and some in quantities. In the case of machine learning, clustering elements of data without prior preparation, i.e., clustering, is not possible."
      ]
    },
    {
      "cell_type": "code",
      "execution_count": null,
      "metadata": {
        "id": "7uJ_kzUjLYi0",
        "outputId": "2bb48280-b842-43af-bccd-2a844e6f7f17"
      },
      "outputs": [
        {
          "data": {
            "text/html": [
              "<div>\n",
              "<style scoped>\n",
              "    .dataframe tbody tr th:only-of-type {\n",
              "        vertical-align: middle;\n",
              "    }\n",
              "\n",
              "    .dataframe tbody tr th {\n",
              "        vertical-align: top;\n",
              "    }\n",
              "\n",
              "    .dataframe thead th {\n",
              "        text-align: right;\n",
              "    }\n",
              "</style>\n",
              "<table border=\"1\" class=\"dataframe\">\n",
              "  <thead>\n",
              "    <tr style=\"text-align: right;\">\n",
              "      <th></th>\n",
              "      <th>Survived</th>\n",
              "      <th>Pclass</th>\n",
              "      <th>Name</th>\n",
              "      <th>Sex</th>\n",
              "      <th>Cabin</th>\n",
              "      <th>Embarked</th>\n",
              "      <th>Paluba</th>\n",
              "      <th>Age1</th>\n",
              "      <th>SibSp1</th>\n",
              "      <th>Parch1</th>\n",
              "      <th>Fare1</th>\n",
              "      <th>Relatives1</th>\n",
              "    </tr>\n",
              "  </thead>\n",
              "  <tbody>\n",
              "    <tr>\n",
              "      <th>0</th>\n",
              "      <td>0</td>\n",
              "      <td>3</td>\n",
              "      <td>Braund, Mr. Owen Harris</td>\n",
              "      <td>male</td>\n",
              "      <td>N</td>\n",
              "      <td>S</td>\n",
              "      <td>N</td>\n",
              "      <td>-0.592148</td>\n",
              "      <td>0.432550</td>\n",
              "      <td>-0.473408</td>\n",
              "      <td>-0.502163</td>\n",
              "      <td>0.059127</td>\n",
              "    </tr>\n",
              "    <tr>\n",
              "      <th>1</th>\n",
              "      <td>1</td>\n",
              "      <td>1</td>\n",
              "      <td>Cumings, Mrs. John Bradley (Florence Briggs Th...</td>\n",
              "      <td>female</td>\n",
              "      <td>C85</td>\n",
              "      <td>C</td>\n",
              "      <td>C</td>\n",
              "      <td>0.638430</td>\n",
              "      <td>0.432550</td>\n",
              "      <td>-0.473408</td>\n",
              "      <td>0.786404</td>\n",
              "      <td>0.059127</td>\n",
              "    </tr>\n",
              "    <tr>\n",
              "      <th>2</th>\n",
              "      <td>1</td>\n",
              "      <td>3</td>\n",
              "      <td>Heikkinen, Miss. Laina</td>\n",
              "      <td>female</td>\n",
              "      <td>N</td>\n",
              "      <td>S</td>\n",
              "      <td>N</td>\n",
              "      <td>-0.284503</td>\n",
              "      <td>-0.474279</td>\n",
              "      <td>-0.473408</td>\n",
              "      <td>-0.488580</td>\n",
              "      <td>-0.560660</td>\n",
              "    </tr>\n",
              "    <tr>\n",
              "      <th>3</th>\n",
              "      <td>1</td>\n",
              "      <td>1</td>\n",
              "      <td>Futrelle, Mrs. Jacques Heath (Lily May Peel)</td>\n",
              "      <td>female</td>\n",
              "      <td>C123</td>\n",
              "      <td>S</td>\n",
              "      <td>C</td>\n",
              "      <td>0.407697</td>\n",
              "      <td>0.432550</td>\n",
              "      <td>-0.473408</td>\n",
              "      <td>0.420494</td>\n",
              "      <td>0.059127</td>\n",
              "    </tr>\n",
              "    <tr>\n",
              "      <th>4</th>\n",
              "      <td>0</td>\n",
              "      <td>3</td>\n",
              "      <td>Allen, Mr. William Henry</td>\n",
              "      <td>male</td>\n",
              "      <td>N</td>\n",
              "      <td>S</td>\n",
              "      <td>N</td>\n",
              "      <td>0.407697</td>\n",
              "      <td>-0.474279</td>\n",
              "      <td>-0.473408</td>\n",
              "      <td>-0.486064</td>\n",
              "      <td>-0.560660</td>\n",
              "    </tr>\n",
              "  </tbody>\n",
              "</table>\n",
              "</div>"
            ],
            "text/plain": [
              "   Survived  Pclass                                               Name  \\\n",
              "0         0       3                            Braund, Mr. Owen Harris   \n",
              "1         1       1  Cumings, Mrs. John Bradley (Florence Briggs Th...   \n",
              "2         1       3                             Heikkinen, Miss. Laina   \n",
              "3         1       1       Futrelle, Mrs. Jacques Heath (Lily May Peel)   \n",
              "4         0       3                           Allen, Mr. William Henry   \n",
              "\n",
              "      Sex Cabin Embarked Paluba      Age1    SibSp1    Parch1     Fare1  \\\n",
              "0    male     N        S      N -0.592148  0.432550 -0.473408 -0.502163   \n",
              "1  female   C85        C      C  0.638430  0.432550 -0.473408  0.786404   \n",
              "2  female     N        S      N -0.284503 -0.474279 -0.473408 -0.488580   \n",
              "3  female  C123        S      C  0.407697  0.432550 -0.473408  0.420494   \n",
              "4    male     N        S      N  0.407697 -0.474279 -0.473408 -0.486064   \n",
              "\n",
              "   Relatives1  \n",
              "0    0.059127  \n",
              "1    0.059127  \n",
              "2   -0.560660  \n",
              "3    0.059127  \n",
              "4   -0.560660  "
            ]
          },
          "execution_count": 66,
          "metadata": {},
          "output_type": "execute_result"
        }
      ],
      "source": [
        "\n",
        "\n",
        "titanic[\"Age1\"]=(titanic[\"Age\"]-titanic[\"Age\"].mean())/titanic[\"Age\"].std()\n",
        "titanic=titanic.drop(columns=['Age'])\n",
        "\n",
        "titanic[\"SibSp1\"]=(titanic[\"Sibsp\"]-titanic[\"Sibsp\"].mean())/titanic[\"Sibsp\"].std()\n",
        "titanic=titanic.drop(columns=['Sibsp'])\n",
        "\n",
        "titanic[\"Parch1\"]=(titanic[\"Parch\"]-titanic[\"Parch\"].mean())/titanic[\"Parch\"].std()\n",
        "titanic=titanic.drop(columns=['Parch'])\n",
        "\n",
        "titanic[\"Fare1\"]=(titanic[\"Fare\"]-titanic[\"Fare\"].mean())/titanic[\"Fare\"].std()\n",
        "titanic=titanic.drop(columns=['Fare'])\n",
        "\n",
        "titanic[\"Relatives1\"]=(titanic[\"Relatives\"]-titanic[\"Relatives\"].mean())/titanic[\"Relatives\"].std()\n",
        "titanic=titanic.drop(columns=['Relatives'])\n",
        "\n",
        "titanic.head()"
      ]
    },
    {
      "cell_type": "code",
      "execution_count": null,
      "metadata": {
        "id": "87Psyz7ELYi0",
        "outputId": "e417960c-8f83-45ac-8429-ad0b7d7e56d0"
      },
      "outputs": [
        {
          "data": {
            "image/png": "[encoded data removed]",
            "text/plain": [
              "<Figure size 3000x1000 with 1 Axes>"
            ]
          },
          "metadata": {},
          "output_type": "display_data"
        }
      ],
      "source": [
        "plt.figure(figsize=(30,10))\n",
        "plt.title('Passenger Age Distribution')\n",
        "plt.hist(titanic[\"Age1\"])\n",
        "plt.xlabel('Age')\n",
        "plt.ylabel('Count')\n",
        "plt.show()\n"
      ]
    },
    {
      "cell_type": "code",
      "execution_count": null,
      "metadata": {
        "id": "wfX-V0AwLYi1",
        "outputId": "c7991df9-efa4-49cc-fe30-814943c7ae15"
      },
      "outputs": [
        {
          "data": {
            "image/png": "[encoded data removed]",
            "text/plain": [
              "<Figure size 3000x1000 with 1 Axes>"
            ]
          },
          "metadata": {},
          "output_type": "display_data"
        }
      ],
      "source": [
        "plt.figure(figsize=(30,10))\n",
        "plt.title('Passenger Distribution by Number of Siblings/Spouses')\n",
        "plt.hist(titanic[\"SibSp1\"])\n",
        "plt.xlabel('Number of Siblings/Spouses')\n",
        "plt.ylabel('Count')\n",
        "plt.show()\n"
      ]
    },
    {
      "cell_type": "code",
      "execution_count": null,
      "metadata": {
        "id": "JyECI8K-LYi1",
        "outputId": "4f740140-dee2-4687-efc5-0c0980dab92e"
      },
      "outputs": [
        {
          "data": {
            "image/png": "[encoded data removed]",
            "text/plain": [
              "<Figure size 3000x1000 with 1 Axes>"
            ]
          },
          "metadata": {},
          "output_type": "display_data"
        }
      ],
      "source": [
        "plt.figure(figsize=(30,10))\n",
        "plt.title('Распределения пассажиров по количеству братьев/сестер или супругов')\n",
        "plt.hist(titanic[\"Parch1\"])\n",
        "plt.xlabel('Количество родителей или детей')\n",
        "plt.ylabel('Количество')\n",
        "plt.show()"
      ]
    },
    {
      "cell_type": "code",
      "execution_count": null,
      "metadata": {
        "id": "1n_UfJgGLYi1",
        "outputId": "e9d3fdf2-26e9-406b-9e67-38cbab827bb1"
      },
      "outputs": [
        {
          "data": {
            "image/png": "[encoded data removed]",
            "text/plain": [
              "<Figure size 3000x1000 with 1 Axes>"
            ]
          },
          "metadata": {},
          "output_type": "display_data"
        }
      ],
      "source": [
        "plt.figure(figsize=(30,10))\n",
        "plt.title('Распределения пассажиров по стоимости билета')\n",
        "plt.hist(titanic[\"Fare1\"])\n",
        "plt.xlabel('Стоимость билета')\n",
        "plt.ylabel('Количество')\n",
        "plt.show()"
      ]
    },
    {
      "cell_type": "code",
      "execution_count": null,
      "metadata": {
        "id": "g-cWMuBHLYi1",
        "outputId": "240b6e33-b382-4c76-8545-4aec5640206f"
      },
      "outputs": [
        {
          "data": {
            "image/png": "[encoded data removed]",
            "text/plain": [
              "<Figure size 3000x1000 with 1 Axes>"
            ]
          },
          "metadata": {},
          "output_type": "display_data"
        }
      ],
      "source": [
        "plt.figure(figsize=(30,10))\n",
        "plt.title('Распределения пассажиров по числу родственников')\n",
        "plt.hist(titanic[\"Relatives1\"])\n",
        "plt.xlabel('Количество родственников')\n",
        "plt.ylabel('Количество')\n",
        "plt.show()"
      ]
    },
    {
      "cell_type": "markdown",
      "metadata": {
        "id": "KDQKUq42LYi1"
      },
      "source": [
        "Conclusion #2: By normalizing all the real-valued features, we have standardized the data. Now we can compare and group them."
      ]
    },
    {
      "cell_type": "markdown",
      "metadata": {
        "id": "XlDxz7oNZKgl"
      },
      "source": [
        "### 16"
      ]
    },
    {
      "cell_type": "markdown",
      "metadata": {
        "id": "cWu51pYuZKgm"
      },
      "source": [
        "Есть ли в данных категориальные признаки, которые принимают значения строк, а не чисел? Если да, то для многих алгоритмов это может стать серьезным препятствием, поэтому закодируйте категориальные признаки так, чтобы к данным можно было применить любые алгоритмы."
      ]
    },
    {
      "cell_type": "code",
      "execution_count": null,
      "metadata": {
        "id": "KlP_Pz31ZKgm",
        "outputId": "754d0947-5754-4915-86f3-bca375dc02f3"
      },
      "outputs": [
        {
          "data": {
            "text/html": [
              "<div>\n",
              "<style scoped>\n",
              "    .dataframe tbody tr th:only-of-type {\n",
              "        vertical-align: middle;\n",
              "    }\n",
              "\n",
              "    .dataframe tbody tr th {\n",
              "        vertical-align: top;\n",
              "    }\n",
              "\n",
              "    .dataframe thead th {\n",
              "        text-align: right;\n",
              "    }\n",
              "</style>\n",
              "<table border=\"1\" class=\"dataframe\">\n",
              "  <thead>\n",
              "    <tr style=\"text-align: right;\">\n",
              "      <th></th>\n",
              "      <th>Survived</th>\n",
              "      <th>Pclass</th>\n",
              "      <th>Name</th>\n",
              "      <th>Sex</th>\n",
              "      <th>Cabin</th>\n",
              "      <th>Embarked</th>\n",
              "      <th>Paluba</th>\n",
              "      <th>Age1</th>\n",
              "      <th>SibSp1</th>\n",
              "      <th>Parch1</th>\n",
              "      <th>Fare1</th>\n",
              "      <th>Relatives1</th>\n",
              "    </tr>\n",
              "  </thead>\n",
              "  <tbody>\n",
              "    <tr>\n",
              "      <th>0</th>\n",
              "      <td>0</td>\n",
              "      <td>3</td>\n",
              "      <td>Braund, Mr. Owen Harris</td>\n",
              "      <td>0</td>\n",
              "      <td>N</td>\n",
              "      <td>2</td>\n",
              "      <td>0</td>\n",
              "      <td>-0.592148</td>\n",
              "      <td>0.432550</td>\n",
              "      <td>-0.473408</td>\n",
              "      <td>-0.502163</td>\n",
              "      <td>0.059127</td>\n",
              "    </tr>\n",
              "    <tr>\n",
              "      <th>1</th>\n",
              "      <td>1</td>\n",
              "      <td>1</td>\n",
              "      <td>Cumings, Mrs. John Bradley (Florence Briggs Th...</td>\n",
              "      <td>1</td>\n",
              "      <td>C85</td>\n",
              "      <td>0</td>\n",
              "      <td>4</td>\n",
              "      <td>0.638430</td>\n",
              "      <td>0.432550</td>\n",
              "      <td>-0.473408</td>\n",
              "      <td>0.786404</td>\n",
              "      <td>0.059127</td>\n",
              "    </tr>\n",
              "    <tr>\n",
              "      <th>2</th>\n",
              "      <td>1</td>\n",
              "      <td>3</td>\n",
              "      <td>Heikkinen, Miss. Laina</td>\n",
              "      <td>1</td>\n",
              "      <td>N</td>\n",
              "      <td>2</td>\n",
              "      <td>0</td>\n",
              "      <td>-0.284503</td>\n",
              "      <td>-0.474279</td>\n",
              "      <td>-0.473408</td>\n",
              "      <td>-0.488580</td>\n",
              "      <td>-0.560660</td>\n",
              "    </tr>\n",
              "    <tr>\n",
              "      <th>3</th>\n",
              "      <td>1</td>\n",
              "      <td>1</td>\n",
              "      <td>Futrelle, Mrs. Jacques Heath (Lily May Peel)</td>\n",
              "      <td>1</td>\n",
              "      <td>C123</td>\n",
              "      <td>2</td>\n",
              "      <td>4</td>\n",
              "      <td>0.407697</td>\n",
              "      <td>0.432550</td>\n",
              "      <td>-0.473408</td>\n",
              "      <td>0.420494</td>\n",
              "      <td>0.059127</td>\n",
              "    </tr>\n",
              "    <tr>\n",
              "      <th>4</th>\n",
              "      <td>0</td>\n",
              "      <td>3</td>\n",
              "      <td>Allen, Mr. William Henry</td>\n",
              "      <td>0</td>\n",
              "      <td>N</td>\n",
              "      <td>2</td>\n",
              "      <td>0</td>\n",
              "      <td>0.407697</td>\n",
              "      <td>-0.474279</td>\n",
              "      <td>-0.473408</td>\n",
              "      <td>-0.486064</td>\n",
              "      <td>-0.560660</td>\n",
              "    </tr>\n",
              "  </tbody>\n",
              "</table>\n",
              "</div>"
            ],
            "text/plain": [
              "   Survived  Pclass                                               Name Sex  \\\n",
              "0         0       3                            Braund, Mr. Owen Harris   0   \n",
              "1         1       1  Cumings, Mrs. John Bradley (Florence Briggs Th...   1   \n",
              "2         1       3                             Heikkinen, Miss. Laina   1   \n",
              "3         1       1       Futrelle, Mrs. Jacques Heath (Lily May Peel)   1   \n",
              "4         0       3                           Allen, Mr. William Henry   0   \n",
              "\n",
              "  Cabin Embarked Paluba      Age1    SibSp1    Parch1     Fare1  Relatives1  \n",
              "0     N        2      0 -0.592148  0.432550 -0.473408 -0.502163    0.059127  \n",
              "1   C85        0      4  0.638430  0.432550 -0.473408  0.786404    0.059127  \n",
              "2     N        2      0 -0.284503 -0.474279 -0.473408 -0.488580   -0.560660  \n",
              "3  C123        2      4  0.407697  0.432550 -0.473408  0.420494    0.059127  \n",
              "4     N        2      0  0.407697 -0.474279 -0.473408 -0.486064   -0.560660  "
            ]
          },
          "execution_count": 73,
          "metadata": {},
          "output_type": "execute_result"
        }
      ],
      "source": [
        "titanic.loc[titanic[\"Sex\"] == \"male\", \"Sex\"] = 0\n",
        "titanic.loc[titanic[\"Sex\"] == \"female\", \"Sex\"] = 1\n",
        "\n",
        "titanic.loc[titanic[\"Embarked\"] == \"C\", \"Embarked\"] = 0\n",
        "titanic.loc[titanic[\"Embarked\"] == \"Q\", \"Embarked\"] = 1\n",
        "titanic.loc[titanic[\"Embarked\"] == \"S\", \"Embarked\"] = 2\n",
        "\n",
        "titanic.loc[titanic[\"Paluba\"] == \"T\", \"Paluba\"] = 1\n",
        "titanic.loc[titanic[\"Paluba\"] == \"A\", \"Paluba\"] = 2\n",
        "titanic.loc[titanic[\"Paluba\"] == \"B\", \"Paluba\"] = 3\n",
        "titanic.loc[titanic[\"Paluba\"] == \"C\", \"Paluba\"] = 4\n",
        "titanic.loc[titanic[\"Paluba\"] == \"D\", \"Paluba\"] = 5\n",
        "titanic.loc[titanic[\"Paluba\"] == \"E\", \"Paluba\"] = 6\n",
        "titanic.loc[titanic[\"Paluba\"] == \"F\", \"Paluba\"] = 7\n",
        "titanic.loc[titanic[\"Paluba\"] == \"G\", \"Paluba\"] = 8\n",
        "titanic.loc[titanic[\"Paluba\"] == \"N\", \"Paluba\"] = 0\n",
        "\n",
        "titanic.head()"
      ]
    },
    {
      "cell_type": "markdown",
      "metadata": {
        "id": "rQvAlddqLYi1"
      },
      "source": [
        "Conclusions: I replaced males with \"0\" and females with \"1\" in the gender column. Now, the port Cherbourg is represented as 0, Queenstown as 1, and Southampton as 2.\n",
        "\n",
        "It's not practical to change ticket names since they have varying formats and wouldn't be usable. I also didn't modify cabin numbers as they are all unique. However, I introduced deck numbers, denoting them as 0 in case of missing information, and numbered the rest from 1 to 7 based on the deck level."
      ]
    },
    {
      "cell_type": "markdown",
      "metadata": {
        "id": "rGRobnalZKgm"
      },
      "source": [
        "## Bonus Section on Machine Learning (up to 10 bonus point"
      ]
    },
    {
      "cell_type": "markdown",
      "metadata": {
        "id": "RmEQBtkJZKgm"
      },
      "source": [
        "### 17\n",
        "\n",
        "Solve a binary classification problem to predict passenger survival (i.e., the target variable $y$ is the 'Survived' column). The goal is to predict whether each passenger will survive or not based on their feature space (i.e., the other columns) using the available data.\n",
        "\n",
        "To achieve this, separate the target variable `'Survived'` from the training dataset and train a machine learning algorithm for classification using these labels (for beginners, you might consider learning about one of the simplest and most understandable algorithms like k-Nearest Neighbors - kNN). Utilizing the selected and trained algorithm, make predictions on the test dataset after preprocessing it similarly to the training data."
      ]
    },
    {
      "cell_type": "code",
      "execution_count": null,
      "metadata": {
        "id": "MJ8iz1i9LYi2"
      },
      "outputs": [],
      "source": [
        "titanic2=copy.deepcopy(titanic)\n",
        "m1=[]"
      ]
    },
    {
      "cell_type": "markdown",
      "metadata": {
        "id": "31UvJ-qnLYi2"
      },
      "source": [
        "Since the data is already normalized, let's remove columns with string values as kNN cannot compute distances for them. I will also remove deck information since there are 687 missing values out of 891 rows. While one could consider removing all rows with missing deck information, it would result in a loss of 77% of the data, which is critical and unfortunate."
      ]
    },
    {
      "cell_type": "code",
      "execution_count": null,
      "metadata": {
        "id": "Yxc2fHq-LYi2"
      },
      "outputs": [],
      "source": [
        "titanic2=titanic2.drop(columns=['Name'])\n",
        "titanic2=titanic2.drop(columns=['Cabin'])\n",
        "titanic2=titanic2.drop(columns=['Paluba'])"
      ]
    },
    {
      "cell_type": "code",
      "execution_count": null,
      "metadata": {
        "id": "SPIHMhq-LYi2"
      },
      "outputs": [],
      "source": [
        "from sklearn.neighbors import KNeighborsClassifier\n",
        "from sklearn.model_selection import train_test_split\n",
        "x=titanic2.drop('Survived',axis=1)\n",
        "y=titanic2['Survived']"
      ]
    },
    {
      "cell_type": "markdown",
      "metadata": {
        "id": "EHl8h0h-LYi2"
      },
      "source": [
        "We will make a prediction about the passenger's survival and immediately determine the accuracy (I had difficulty with Kaggle, and the file is not being generated). We will choose a random state from 1 to 100 as the random seed. We will choose 1 as the value for the neighbor."
      ]
    },
    {
      "cell_type": "code",
      "execution_count": null,
      "metadata": {
        "id": "Fn0_Nx8BLYi2"
      },
      "outputs": [],
      "source": [
        "for i in range(1, 100):\n",
        "    x_train, x_test, y_train, y_test = train_test_split(x,y,test_size = 0.3,random_state = i)\n",
        "    knn = KNeighborsClassifier(n_neighbors = 1)\n",
        "    knn.fit(x_train, y_train)\n",
        "    pred = knn.predict(x_test)\n",
        "    #посчитаем точности по разным сидам, и занесем их всех в массив\n",
        "    k=\"{:.2f}\".format(knn.score(x_test, y_test))\n",
        "    k=float(k)\n",
        "    m1.append(k)"
      ]
    },
    {
      "cell_type": "markdown",
      "metadata": {
        "id": "ZAjwkNMkLYi2"
      },
      "source": [
        "Узнаем максимальную точность, но мне кажется логичнее брать среднее арифметическое."
      ]
    },
    {
      "cell_type": "code",
      "execution_count": null,
      "metadata": {
        "id": "H20zzV5yLYi2",
        "outputId": "e2141839-3d47-4318-b055-00670d6a0c80"
      },
      "outputs": [
        {
          "name": "stdout",
          "output_type": "stream",
          "text": [
            "Maximum accuracy:  0.79   Mean accuracy:  0.75\n"
          ]
        }
      ],
      "source": [
        "from statistics import mean\n",
        "print(\"Maximum accuracy: \", round(max(m1), 2), \"  Mean accuracy: \", round(mean(m1), 2))"
      ]
    },
    {
      "cell_type": "markdown",
      "metadata": {
        "id": "YAI_-z1GZKgm"
      },
      "source": [
        "Based on the data you worked with, a competition on Kaggle was created, aimed at beginner Data Scientists: https://www.kaggle.com/c/titanic. You're invited to participate – if you've reached this point, you're almost there. Register on Kaggle and accept the competition rules. If you already have predictions for the test dataset that you want to submit for evaluation and to appear on the leaderboard, you need to add them to a .csv file and format it correctly. In the data tab (https://www.kaggle.com/c/titanic/data), there's an example of how this file should look (\"gender_submission.csv\"). You can download and study it. For your convenience, below is the code that allows you to create the submission file.\n"
      ]
    },
    {
      "cell_type": "markdown",
      "metadata": {
        "id": "4Mf8v8stLYi2"
      },
      "source": [
        "* Conclusion: The maximum accuracy achieved was 0.79 with a random state of 57, and the average accuracy was 0.75."
      ]
    },
    {
      "cell_type": "markdown",
      "metadata": {
        "id": "mdx-0QlhLYi2"
      },
      "source": [
        "I will attempt to improve accuracy by removing columns related to siblings, spouses, parents, and children from the data, since there's already a column with relatives that encompasses these elements. Furthermore, from previous tasks, it was calculated that higher ticket fares correlate with higher survival chances. I also presented a graph showing that the ticket fare depended on the chosen cabin class. Therefore, I filtered the data to retain only passengers from 1st and 2nd classes."
      ]
    },
    {
      "cell_type": "markdown",
      "metadata": {
        "id": "elYOQqHsLYi2"
      },
      "source": [
        "I'm doing the same thing as in the previous step, but additionally removing Parch and SibSp columns, and filtering the data."
      ]
    },
    {
      "cell_type": "code",
      "execution_count": null,
      "metadata": {
        "id": "ZFDoY3yQLYi3"
      },
      "outputs": [],
      "source": [
        "titanic2=copy.deepcopy(titanic)\n",
        "m2=[]"
      ]
    },
    {
      "cell_type": "code",
      "execution_count": null,
      "metadata": {
        "id": "zVLGZTFMLYi3"
      },
      "outputs": [],
      "source": [
        "titanic2=titanic2.drop(columns=['Name'])\n",
        "titanic2=titanic2.drop(columns=['Parch1'])\n",
        "titanic2=titanic2.drop(columns=['SibSp1'])\n",
        "titanic2=titanic2.drop(columns=['Cabin'])\n",
        "titanic2=titanic2.drop(columns=['Paluba'])\n",
        "titanic2=titanic2[(titanic2[\"Pclass\"]==1) | (titanic2[\"Pclass\"]==2)]"
      ]
    },
    {
      "cell_type": "code",
      "execution_count": null,
      "metadata": {
        "id": "mZL4geQjLYi3"
      },
      "outputs": [],
      "source": [
        "x=titanic2.drop('Survived',axis=1)\n",
        "y=titanic2['Survived']"
      ]
    },
    {
      "cell_type": "code",
      "execution_count": null,
      "metadata": {
        "id": "iNzWbA4ALYi3"
      },
      "outputs": [],
      "source": [
        "for i in range(1, 100):\n",
        "    x_train, x_test, y_train, y_test = train_test_split(x,y,test_size = 0.3,random_state = i)\n",
        "    knn = KNeighborsClassifier(n_neighbors = 1)\n",
        "    knn.fit(x_train, y_train)\n",
        "    pred = knn.predict(x_test)\n",
        "    k=\"{:.2f}\".format(knn.score(x_test, y_test))\n",
        "    k=float(k)\n",
        "    m2.append(k)"
      ]
    },
    {
      "cell_type": "code",
      "execution_count": null,
      "metadata": {
        "id": "GCkTMqk1LYi3",
        "outputId": "ce88e61e-f162-4a40-8f3a-e29f9b3ce0c2"
      },
      "outputs": [
        {
          "name": "stdout",
          "output_type": "stream",
          "text": [
            "Maximum accuracy:  0.85   Mean accuracy:  0.77\n"
          ]
        }
      ],
      "source": [
        "print(\"Maximum accuracy: \", round(max(m2), 2), \"  Mean accuracy: \", round(mean(m2), 2))"
      ]
    },
    {
      "cell_type": "markdown",
      "metadata": {
        "id": "H4S6uorRLYi3"
      },
      "source": [
        "Accuracy after additional transformations: Maximum accuracy is 0.85 with random state 57, and average accuracy is 0.77."
      ]
    },
    {
      "cell_type": "code",
      "execution_count": null,
      "metadata": {
        "id": "BJjZCMZrLYi3"
      },
      "outputs": [],
      "source": []
    }
  ],
  "metadata": {
    "colab": {
      "provenance": [],
      "include_colab_link": true
    },
    "kernelspec": {
      "display_name": "Python 3 (ipykernel)",
      "language": "python",
      "name": "python3"
    },
    "language_info": {
      "codemirror_mode": {
        "name": "ipython",
        "version": 3
      },
      "file_extension": ".py",
      "mimetype": "text/x-python",
      "name": "python",
      "nbconvert_exporter": "python",
      "pygments_lexer": "ipython3",
      "version": "3.11.4"
    }
  },
  "nbformat": 4,
  "nbformat_minor": 0
}